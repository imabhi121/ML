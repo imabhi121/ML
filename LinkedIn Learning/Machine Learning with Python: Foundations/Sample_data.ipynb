{
 "cells": [
  {
   "cell_type": "markdown",
   "id": "95be4192-2feb-4174-a0d7-b24dbff4d235",
   "metadata": {},
   "source": [
    "# Sample Data in Python"
   ]
  },
  {
   "cell_type": "markdown",
   "id": "2035edde-7f7e-49cc-9ee7-3ab45af78d25",
   "metadata": {},
   "source": [
    "## Learning Objectives\n",
    "In order to get an unbiased assessment of the performance of a supervised machine learning model, we need to evaluate it based on data that it did not previously encounter during the training process. To accomplish this, we must first split our data into a training subset and a test subset prior to the model build stage. One common way to split data in this fashion is by creating non-overlapping subsets of the original data using one of several **sampling** approaches. By the end of the tutorial, you will have learned:\n",
    "\n",
    "+ how to split data using simple random sampling\n",
    "+ how to split data using stratified random sampling"
   ]
  },
  {
   "cell_type": "code",
   "execution_count": 5,
   "id": "3cdf53f2-000a-40b7-971a-4e0d22253b15",
   "metadata": {},
   "outputs": [
    {
     "data": {
      "text/html": [
       "<div>\n",
       "<style scoped>\n",
       "    .dataframe tbody tr th:only-of-type {\n",
       "        vertical-align: middle;\n",
       "    }\n",
       "\n",
       "    .dataframe tbody tr th {\n",
       "        vertical-align: top;\n",
       "    }\n",
       "\n",
       "    .dataframe thead th {\n",
       "        text-align: right;\n",
       "    }\n",
       "</style>\n",
       "<table border=\"1\" class=\"dataframe\">\n",
       "  <thead>\n",
       "    <tr style=\"text-align: right;\">\n",
       "      <th></th>\n",
       "      <th>citympg</th>\n",
       "      <th>cylinders</th>\n",
       "      <th>displacement</th>\n",
       "      <th>drive</th>\n",
       "      <th>highwaympg</th>\n",
       "      <th>make</th>\n",
       "      <th>model</th>\n",
       "      <th>class</th>\n",
       "      <th>year</th>\n",
       "      <th>transmissiontype</th>\n",
       "      <th>transmissionspeeds</th>\n",
       "      <th>co2emissions</th>\n",
       "    </tr>\n",
       "  </thead>\n",
       "  <tbody>\n",
       "    <tr>\n",
       "      <th>0</th>\n",
       "      <td>14.0</td>\n",
       "      <td>6</td>\n",
       "      <td>4.1</td>\n",
       "      <td>2-Wheel Drive</td>\n",
       "      <td>19.0</td>\n",
       "      <td>Buick</td>\n",
       "      <td>Electra/Park Avenue</td>\n",
       "      <td>Large Cars</td>\n",
       "      <td>1984</td>\n",
       "      <td>Automatic</td>\n",
       "      <td>4</td>\n",
       "      <td>555.437500</td>\n",
       "    </tr>\n",
       "    <tr>\n",
       "      <th>1</th>\n",
       "      <td>14.0</td>\n",
       "      <td>8</td>\n",
       "      <td>5.0</td>\n",
       "      <td>2-Wheel Drive</td>\n",
       "      <td>20.0</td>\n",
       "      <td>Buick</td>\n",
       "      <td>Electra/Park Avenue</td>\n",
       "      <td>Large Cars</td>\n",
       "      <td>1984</td>\n",
       "      <td>Automatic</td>\n",
       "      <td>4</td>\n",
       "      <td>555.437500</td>\n",
       "    </tr>\n",
       "    <tr>\n",
       "      <th>2</th>\n",
       "      <td>18.0</td>\n",
       "      <td>8</td>\n",
       "      <td>5.7</td>\n",
       "      <td>2-Wheel Drive</td>\n",
       "      <td>26.0</td>\n",
       "      <td>Buick</td>\n",
       "      <td>Electra/Park Avenue</td>\n",
       "      <td>Large Cars</td>\n",
       "      <td>1984</td>\n",
       "      <td>Automatic</td>\n",
       "      <td>4</td>\n",
       "      <td>484.761905</td>\n",
       "    </tr>\n",
       "    <tr>\n",
       "      <th>3</th>\n",
       "      <td>21.0</td>\n",
       "      <td>6</td>\n",
       "      <td>4.3</td>\n",
       "      <td>Rear-Wheel Drive</td>\n",
       "      <td>31.0</td>\n",
       "      <td>Cadillac</td>\n",
       "      <td>Fleetwood/DeVille (FWD)</td>\n",
       "      <td>Large Cars</td>\n",
       "      <td>1984</td>\n",
       "      <td>Automatic</td>\n",
       "      <td>4</td>\n",
       "      <td>424.166667</td>\n",
       "    </tr>\n",
       "    <tr>\n",
       "      <th>4</th>\n",
       "      <td>14.0</td>\n",
       "      <td>8</td>\n",
       "      <td>4.1</td>\n",
       "      <td>Rear-Wheel Drive</td>\n",
       "      <td>19.0</td>\n",
       "      <td>Cadillac</td>\n",
       "      <td>Brougham/DeVille (RWD)</td>\n",
       "      <td>Large Cars</td>\n",
       "      <td>1984</td>\n",
       "      <td>Automatic</td>\n",
       "      <td>4</td>\n",
       "      <td>555.437500</td>\n",
       "    </tr>\n",
       "    <tr>\n",
       "      <th>...</th>\n",
       "      <td>...</td>\n",
       "      <td>...</td>\n",
       "      <td>...</td>\n",
       "      <td>...</td>\n",
       "      <td>...</td>\n",
       "      <td>...</td>\n",
       "      <td>...</td>\n",
       "      <td>...</td>\n",
       "      <td>...</td>\n",
       "      <td>...</td>\n",
       "      <td>...</td>\n",
       "      <td>...</td>\n",
       "    </tr>\n",
       "    <tr>\n",
       "      <th>36974</th>\n",
       "      <td>17.0</td>\n",
       "      <td>8</td>\n",
       "      <td>4.7</td>\n",
       "      <td>Rear-Wheel Drive</td>\n",
       "      <td>25.0</td>\n",
       "      <td>Mercedes-Benz</td>\n",
       "      <td>SL550</td>\n",
       "      <td>Two Seaters</td>\n",
       "      <td>2018</td>\n",
       "      <td>Automatic</td>\n",
       "      <td>9</td>\n",
       "      <td>442.000000</td>\n",
       "    </tr>\n",
       "    <tr>\n",
       "      <th>36975</th>\n",
       "      <td>16.0</td>\n",
       "      <td>8</td>\n",
       "      <td>6.2</td>\n",
       "      <td>Rear-Wheel Drive</td>\n",
       "      <td>25.0</td>\n",
       "      <td>Chevrolet</td>\n",
       "      <td>Corvette</td>\n",
       "      <td>Two Seaters</td>\n",
       "      <td>2018</td>\n",
       "      <td>Manual</td>\n",
       "      <td>7</td>\n",
       "      <td>466.000000</td>\n",
       "    </tr>\n",
       "    <tr>\n",
       "      <th>36976</th>\n",
       "      <td>15.0</td>\n",
       "      <td>8</td>\n",
       "      <td>6.2</td>\n",
       "      <td>Rear-Wheel Drive</td>\n",
       "      <td>22.0</td>\n",
       "      <td>Chevrolet</td>\n",
       "      <td>Corvette</td>\n",
       "      <td>Two Seaters</td>\n",
       "      <td>2018</td>\n",
       "      <td>Manual</td>\n",
       "      <td>7</td>\n",
       "      <td>503.000000</td>\n",
       "    </tr>\n",
       "    <tr>\n",
       "      <th>36977</th>\n",
       "      <td>12.0</td>\n",
       "      <td>12</td>\n",
       "      <td>6.5</td>\n",
       "      <td>Rear-Wheel Drive</td>\n",
       "      <td>16.0</td>\n",
       "      <td>Ferrari</td>\n",
       "      <td>812 Superfast</td>\n",
       "      <td>Two Seaters</td>\n",
       "      <td>2018</td>\n",
       "      <td>Automatic</td>\n",
       "      <td>7</td>\n",
       "      <td>661.000000</td>\n",
       "    </tr>\n",
       "    <tr>\n",
       "      <th>36978</th>\n",
       "      <td>13.0</td>\n",
       "      <td>12</td>\n",
       "      <td>6.0</td>\n",
       "      <td>Rear-Wheel Drive</td>\n",
       "      <td>22.0</td>\n",
       "      <td>Mercedes-Benz</td>\n",
       "      <td>AMG SL65</td>\n",
       "      <td>Two Seaters</td>\n",
       "      <td>2018</td>\n",
       "      <td>Automatic</td>\n",
       "      <td>7</td>\n",
       "      <td>546.000000</td>\n",
       "    </tr>\n",
       "  </tbody>\n",
       "</table>\n",
       "<p>36979 rows × 12 columns</p>\n",
       "</div>"
      ],
      "text/plain": [
       "       citympg  cylinders  displacement             drive  highwaympg  \\\n",
       "0         14.0          6           4.1     2-Wheel Drive        19.0   \n",
       "1         14.0          8           5.0     2-Wheel Drive        20.0   \n",
       "2         18.0          8           5.7     2-Wheel Drive        26.0   \n",
       "3         21.0          6           4.3  Rear-Wheel Drive        31.0   \n",
       "4         14.0          8           4.1  Rear-Wheel Drive        19.0   \n",
       "...        ...        ...           ...               ...         ...   \n",
       "36974     17.0          8           4.7  Rear-Wheel Drive        25.0   \n",
       "36975     16.0          8           6.2  Rear-Wheel Drive        25.0   \n",
       "36976     15.0          8           6.2  Rear-Wheel Drive        22.0   \n",
       "36977     12.0         12           6.5  Rear-Wheel Drive        16.0   \n",
       "36978     13.0         12           6.0  Rear-Wheel Drive        22.0   \n",
       "\n",
       "                make                    model        class  year  \\\n",
       "0              Buick      Electra/Park Avenue   Large Cars  1984   \n",
       "1              Buick      Electra/Park Avenue   Large Cars  1984   \n",
       "2              Buick      Electra/Park Avenue   Large Cars  1984   \n",
       "3           Cadillac  Fleetwood/DeVille (FWD)   Large Cars  1984   \n",
       "4           Cadillac   Brougham/DeVille (RWD)   Large Cars  1984   \n",
       "...              ...                      ...          ...   ...   \n",
       "36974  Mercedes-Benz                    SL550  Two Seaters  2018   \n",
       "36975      Chevrolet                 Corvette  Two Seaters  2018   \n",
       "36976      Chevrolet                 Corvette  Two Seaters  2018   \n",
       "36977        Ferrari            812 Superfast  Two Seaters  2018   \n",
       "36978  Mercedes-Benz                 AMG SL65  Two Seaters  2018   \n",
       "\n",
       "      transmissiontype  transmissionspeeds  co2emissions  \n",
       "0            Automatic                   4    555.437500  \n",
       "1            Automatic                   4    555.437500  \n",
       "2            Automatic                   4    484.761905  \n",
       "3            Automatic                   4    424.166667  \n",
       "4            Automatic                   4    555.437500  \n",
       "...                ...                 ...           ...  \n",
       "36974        Automatic                   9    442.000000  \n",
       "36975           Manual                   7    466.000000  \n",
       "36976           Manual                   7    503.000000  \n",
       "36977        Automatic                   7    661.000000  \n",
       "36978        Automatic                   7    546.000000  \n",
       "\n",
       "[36979 rows x 12 columns]"
      ]
     },
     "execution_count": 5,
     "metadata": {},
     "output_type": "execute_result"
    }
   ],
   "source": [
    "import pandas as pd\n",
    "vehicles = pd.read_csv(\"vehicles.csv\")\n",
    "vehicles"
   ]
  },
  {
   "cell_type": "code",
   "execution_count": 7,
   "id": "152f0c63-8294-4356-8136-3457cdd353df",
   "metadata": {},
   "outputs": [
    {
     "data": {
      "text/html": [
       "<div>\n",
       "<style scoped>\n",
       "    .dataframe tbody tr th:only-of-type {\n",
       "        vertical-align: middle;\n",
       "    }\n",
       "\n",
       "    .dataframe tbody tr th {\n",
       "        vertical-align: top;\n",
       "    }\n",
       "\n",
       "    .dataframe thead th {\n",
       "        text-align: right;\n",
       "    }\n",
       "</style>\n",
       "<table border=\"1\" class=\"dataframe\">\n",
       "  <thead>\n",
       "    <tr style=\"text-align: right;\">\n",
       "      <th></th>\n",
       "      <th>co2emissions</th>\n",
       "    </tr>\n",
       "  </thead>\n",
       "  <tbody>\n",
       "    <tr>\n",
       "      <th>0</th>\n",
       "      <td>555.437500</td>\n",
       "    </tr>\n",
       "    <tr>\n",
       "      <th>1</th>\n",
       "      <td>555.437500</td>\n",
       "    </tr>\n",
       "    <tr>\n",
       "      <th>2</th>\n",
       "      <td>484.761905</td>\n",
       "    </tr>\n",
       "    <tr>\n",
       "      <th>3</th>\n",
       "      <td>424.166667</td>\n",
       "    </tr>\n",
       "    <tr>\n",
       "      <th>4</th>\n",
       "      <td>555.437500</td>\n",
       "    </tr>\n",
       "  </tbody>\n",
       "</table>\n",
       "</div>"
      ],
      "text/plain": [
       "   co2emissions\n",
       "0    555.437500\n",
       "1    555.437500\n",
       "2    484.761905\n",
       "3    424.166667\n",
       "4    555.437500"
      ]
     },
     "execution_count": 7,
     "metadata": {},
     "output_type": "execute_result"
    }
   ],
   "source": [
    "response = 'co2emissions'\n",
    "y = vehicles[[response]]\n",
    "y.head()"
   ]
  },
  {
   "cell_type": "code",
   "execution_count": 9,
   "id": "928cd384-2921-4d21-aaa4-ad985c397074",
   "metadata": {},
   "outputs": [
    {
     "data": {
      "text/plain": [
       "['citympg',\n",
       " 'cylinders',\n",
       " 'displacement',\n",
       " 'drive',\n",
       " 'highwaympg',\n",
       " 'make',\n",
       " 'model',\n",
       " 'class',\n",
       " 'year',\n",
       " 'transmissiontype',\n",
       " 'transmissionspeeds',\n",
       " 'co2emissions']"
      ]
     },
     "execution_count": 9,
     "metadata": {},
     "output_type": "execute_result"
    }
   ],
   "source": [
    "predictors = list(vehicles.columns)\n",
    "predictors"
   ]
  },
  {
   "cell_type": "code",
   "execution_count": 11,
   "id": "a650d4aa-884e-4679-9480-559e056d049f",
   "metadata": {},
   "outputs": [
    {
     "data": {
      "text/plain": [
       "['citympg',\n",
       " 'cylinders',\n",
       " 'displacement',\n",
       " 'drive',\n",
       " 'highwaympg',\n",
       " 'make',\n",
       " 'model',\n",
       " 'class',\n",
       " 'year',\n",
       " 'transmissiontype',\n",
       " 'transmissionspeeds']"
      ]
     },
     "execution_count": 11,
     "metadata": {},
     "output_type": "execute_result"
    }
   ],
   "source": [
    "predictors.remove(response)\n",
    "predictors"
   ]
  },
  {
   "cell_type": "code",
   "execution_count": 13,
   "id": "1cdbd7b6-8345-4eea-9acf-90428efc992d",
   "metadata": {},
   "outputs": [
    {
     "data": {
      "text/html": [
       "<div>\n",
       "<style scoped>\n",
       "    .dataframe tbody tr th:only-of-type {\n",
       "        vertical-align: middle;\n",
       "    }\n",
       "\n",
       "    .dataframe tbody tr th {\n",
       "        vertical-align: top;\n",
       "    }\n",
       "\n",
       "    .dataframe thead th {\n",
       "        text-align: right;\n",
       "    }\n",
       "</style>\n",
       "<table border=\"1\" class=\"dataframe\">\n",
       "  <thead>\n",
       "    <tr style=\"text-align: right;\">\n",
       "      <th></th>\n",
       "      <th>citympg</th>\n",
       "      <th>cylinders</th>\n",
       "      <th>displacement</th>\n",
       "      <th>drive</th>\n",
       "      <th>highwaympg</th>\n",
       "      <th>make</th>\n",
       "      <th>model</th>\n",
       "      <th>class</th>\n",
       "      <th>year</th>\n",
       "      <th>transmissiontype</th>\n",
       "      <th>transmissionspeeds</th>\n",
       "    </tr>\n",
       "  </thead>\n",
       "  <tbody>\n",
       "    <tr>\n",
       "      <th>0</th>\n",
       "      <td>14.0</td>\n",
       "      <td>6</td>\n",
       "      <td>4.1</td>\n",
       "      <td>2-Wheel Drive</td>\n",
       "      <td>19.0</td>\n",
       "      <td>Buick</td>\n",
       "      <td>Electra/Park Avenue</td>\n",
       "      <td>Large Cars</td>\n",
       "      <td>1984</td>\n",
       "      <td>Automatic</td>\n",
       "      <td>4</td>\n",
       "    </tr>\n",
       "    <tr>\n",
       "      <th>1</th>\n",
       "      <td>14.0</td>\n",
       "      <td>8</td>\n",
       "      <td>5.0</td>\n",
       "      <td>2-Wheel Drive</td>\n",
       "      <td>20.0</td>\n",
       "      <td>Buick</td>\n",
       "      <td>Electra/Park Avenue</td>\n",
       "      <td>Large Cars</td>\n",
       "      <td>1984</td>\n",
       "      <td>Automatic</td>\n",
       "      <td>4</td>\n",
       "    </tr>\n",
       "    <tr>\n",
       "      <th>2</th>\n",
       "      <td>18.0</td>\n",
       "      <td>8</td>\n",
       "      <td>5.7</td>\n",
       "      <td>2-Wheel Drive</td>\n",
       "      <td>26.0</td>\n",
       "      <td>Buick</td>\n",
       "      <td>Electra/Park Avenue</td>\n",
       "      <td>Large Cars</td>\n",
       "      <td>1984</td>\n",
       "      <td>Automatic</td>\n",
       "      <td>4</td>\n",
       "    </tr>\n",
       "    <tr>\n",
       "      <th>3</th>\n",
       "      <td>21.0</td>\n",
       "      <td>6</td>\n",
       "      <td>4.3</td>\n",
       "      <td>Rear-Wheel Drive</td>\n",
       "      <td>31.0</td>\n",
       "      <td>Cadillac</td>\n",
       "      <td>Fleetwood/DeVille (FWD)</td>\n",
       "      <td>Large Cars</td>\n",
       "      <td>1984</td>\n",
       "      <td>Automatic</td>\n",
       "      <td>4</td>\n",
       "    </tr>\n",
       "    <tr>\n",
       "      <th>4</th>\n",
       "      <td>14.0</td>\n",
       "      <td>8</td>\n",
       "      <td>4.1</td>\n",
       "      <td>Rear-Wheel Drive</td>\n",
       "      <td>19.0</td>\n",
       "      <td>Cadillac</td>\n",
       "      <td>Brougham/DeVille (RWD)</td>\n",
       "      <td>Large Cars</td>\n",
       "      <td>1984</td>\n",
       "      <td>Automatic</td>\n",
       "      <td>4</td>\n",
       "    </tr>\n",
       "  </tbody>\n",
       "</table>\n",
       "</div>"
      ],
      "text/plain": [
       "   citympg  cylinders  displacement             drive  highwaympg      make  \\\n",
       "0     14.0          6           4.1     2-Wheel Drive        19.0     Buick   \n",
       "1     14.0          8           5.0     2-Wheel Drive        20.0     Buick   \n",
       "2     18.0          8           5.7     2-Wheel Drive        26.0     Buick   \n",
       "3     21.0          6           4.3  Rear-Wheel Drive        31.0  Cadillac   \n",
       "4     14.0          8           4.1  Rear-Wheel Drive        19.0  Cadillac   \n",
       "\n",
       "                     model       class  year transmissiontype  \\\n",
       "0      Electra/Park Avenue  Large Cars  1984        Automatic   \n",
       "1      Electra/Park Avenue  Large Cars  1984        Automatic   \n",
       "2      Electra/Park Avenue  Large Cars  1984        Automatic   \n",
       "3  Fleetwood/DeVille (FWD)  Large Cars  1984        Automatic   \n",
       "4   Brougham/DeVille (RWD)  Large Cars  1984        Automatic   \n",
       "\n",
       "   transmissionspeeds  \n",
       "0                   4  \n",
       "1                   4  \n",
       "2                   4  \n",
       "3                   4  \n",
       "4                   4  "
      ]
     },
     "execution_count": 13,
     "metadata": {},
     "output_type": "execute_result"
    }
   ],
   "source": [
    "x = vehicles[predictors]\n",
    "x.head()"
   ]
  },
  {
   "cell_type": "markdown",
   "id": "80262314-71ce-475f-9f65-7bb0697fe8b4",
   "metadata": {},
   "source": [
    "## How to split data using Simple Random Sampling"
   ]
  },
  {
   "cell_type": "code",
   "execution_count": 18,
   "id": "617cf689-d0b7-4a25-8f1d-24d87eb75227",
   "metadata": {},
   "outputs": [],
   "source": [
    "from sklearn.model_selection import train_test_split"
   ]
  },
  {
   "cell_type": "code",
   "execution_count": 20,
   "id": "64dd4879-4956-4fed-9ee2-03e789dc28a4",
   "metadata": {},
   "outputs": [],
   "source": [
    "x_train, x_test, y_train, y_test = train_test_split(x, y) "
   ]
  },
  {
   "cell_type": "code",
   "execution_count": 22,
   "id": "26cf78f2-4bda-4bdd-85f9-7f404368e7eb",
   "metadata": {},
   "outputs": [
    {
     "data": {
      "text/plain": [
       "(27734, 11)"
      ]
     },
     "execution_count": 22,
     "metadata": {},
     "output_type": "execute_result"
    }
   ],
   "source": [
    "x_train.shape"
   ]
  },
  {
   "cell_type": "code",
   "execution_count": 24,
   "id": "abadc69b-35c2-45c2-8db1-dc4866120a4d",
   "metadata": {},
   "outputs": [
    {
     "data": {
      "text/plain": [
       "(27734, 1)"
      ]
     },
     "execution_count": 24,
     "metadata": {},
     "output_type": "execute_result"
    }
   ],
   "source": [
    "y_train.shape"
   ]
  },
  {
   "cell_type": "code",
   "execution_count": 26,
   "id": "af787f6c-0b36-4bf7-9e16-9c23aa809815",
   "metadata": {},
   "outputs": [
    {
     "data": {
      "text/plain": [
       "(9245, 11)"
      ]
     },
     "execution_count": 26,
     "metadata": {},
     "output_type": "execute_result"
    }
   ],
   "source": [
    "x_test.shape"
   ]
  },
  {
   "cell_type": "code",
   "execution_count": 28,
   "id": "1d2192e8-1663-4cf8-9600-5cff15fc616b",
   "metadata": {},
   "outputs": [
    {
     "data": {
      "text/plain": [
       "(9245, 1)"
      ]
     },
     "execution_count": 28,
     "metadata": {},
     "output_type": "execute_result"
    }
   ],
   "source": [
    "y_test.shape"
   ]
  },
  {
   "cell_type": "code",
   "execution_count": 30,
   "id": "6a21b35b-e0a2-4830-bbe5-a406f67bfa40",
   "metadata": {},
   "outputs": [
    {
     "data": {
      "text/plain": [
       "(14792, 11)"
      ]
     },
     "execution_count": 30,
     "metadata": {},
     "output_type": "execute_result"
    }
   ],
   "source": [
    "x_train, x_test, y_train, y_test = train_test_split(x, y, \n",
    "                                                    test_size = 0.4) \n",
    "x_test.shape"
   ]
  },
  {
   "cell_type": "markdown",
   "id": "be8ad840-2e2b-4560-b6d9-a53ef61e29c6",
   "metadata": {},
   "source": [
    "## How to split data using Stratified Random Sampling"
   ]
  },
  {
   "cell_type": "code",
   "execution_count": 33,
   "id": "fe261577-e96e-4673-a08d-6549defce584",
   "metadata": {},
   "outputs": [],
   "source": [
    "x_train, x_test, y_train, y_test = train_test_split(x, y, \n",
    "                                                    test_size = 0.01, \n",
    "                                                    random_state = 1234) "
   ]
  },
  {
   "cell_type": "code",
   "execution_count": 35,
   "id": "af2e42d7-e2ac-41ac-a756-7c60b582b69e",
   "metadata": {},
   "outputs": [
    {
     "data": {
      "text/plain": [
       "drive\n",
       "Rear-Wheel Drive     0.356797\n",
       "Front-Wheel Drive    0.353552\n",
       "All-Wheel Drive      0.239893\n",
       "4-Wheel Drive        0.036480\n",
       "2-Wheel Drive        0.013278\n",
       "Name: proportion, dtype: float64"
      ]
     },
     "execution_count": 35,
     "metadata": {},
     "output_type": "execute_result"
    }
   ],
   "source": [
    "x['drive'].value_counts(normalize = True)"
   ]
  },
  {
   "cell_type": "code",
   "execution_count": 37,
   "id": "c0adb059-a9fe-40a0-82cd-0f113817837e",
   "metadata": {},
   "outputs": [
    {
     "data": {
      "text/plain": [
       "drive\n",
       "Front-Wheel Drive    0.364865\n",
       "Rear-Wheel Drive     0.332432\n",
       "All-Wheel Drive      0.248649\n",
       "4-Wheel Drive        0.035135\n",
       "2-Wheel Drive        0.018919\n",
       "Name: proportion, dtype: float64"
      ]
     },
     "execution_count": 37,
     "metadata": {},
     "output_type": "execute_result"
    }
   ],
   "source": [
    "x_test['drive'].value_counts(normalize = True)"
   ]
  },
  {
   "cell_type": "code",
   "execution_count": 39,
   "id": "f7294652-4c8b-45c7-a320-4efd9760085d",
   "metadata": {},
   "outputs": [],
   "source": [
    "x_train, x_test, y_train, y_test = train_test_split(x, y, \n",
    "                                                    test_size = 0.01, \n",
    "                                                    random_state = 1234, \n",
    "                                                    stratify = x['drive']) "
   ]
  },
  {
   "cell_type": "code",
   "execution_count": 41,
   "id": "c117263b-ac07-402d-9884-095a0ea64285",
   "metadata": {},
   "outputs": [
    {
     "data": {
      "text/plain": [
       "drive\n",
       "Rear-Wheel Drive     0.356757\n",
       "Front-Wheel Drive    0.354054\n",
       "All-Wheel Drive      0.240541\n",
       "4-Wheel Drive        0.035135\n",
       "2-Wheel Drive        0.013514\n",
       "Name: proportion, dtype: float64"
      ]
     },
     "execution_count": 41,
     "metadata": {},
     "output_type": "execute_result"
    }
   ],
   "source": [
    "x_test['drive'].value_counts(normalize = True)"
   ]
  },
  {
   "cell_type": "code",
   "execution_count": null,
   "id": "e485ffb7-c28e-400c-8499-9d41995f62ca",
   "metadata": {},
   "outputs": [],
   "source": []
  }
 ],
 "metadata": {
  "kernelspec": {
   "display_name": "Python [conda env:base] *",
   "language": "python",
   "name": "conda-base-py"
  },
  "language_info": {
   "codemirror_mode": {
    "name": "ipython",
    "version": 3
   },
   "file_extension": ".py",
   "mimetype": "text/x-python",
   "name": "python",
   "nbconvert_exporter": "python",
   "pygments_lexer": "ipython3",
   "version": "3.12.7"
  }
 },
 "nbformat": 4,
 "nbformat_minor": 5
}
